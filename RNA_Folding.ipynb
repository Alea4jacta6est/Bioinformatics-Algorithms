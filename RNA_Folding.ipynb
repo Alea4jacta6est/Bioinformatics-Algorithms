{
 "cells": [
  {
   "cell_type": "code",
   "execution_count": 75,
   "metadata": {},
   "outputs": [],
   "source": [
    "def Nussinov(seq, minarc=3):\n",
    "    import numpy as np\n",
    "    from itertools import product\n",
    "    \n",
    "    def is_compl(ch1, ch2):\n",
    "        return 1 if {ch1, ch2} in [{'A', 'U'}, {'C', 'G'}] else 0\n",
    "    \n",
    "    def merge(i, j):\n",
    "        max_pair=0\n",
    "        max_k=0\n",
    "        for k in range(i+1, j):\n",
    "            curr=Pair_mat[i, k]+Pair_mat[k+1, j]\n",
    "            if curr>max_pair:\n",
    "                max_pair=curr\n",
    "                max_k=k    \n",
    "        return max_pair, max_k\n",
    "    \n",
    "    n=len(seq)\n",
    "    \n",
    "    Pair_mat=np.zeros([n, n])\n",
    "    Path_mat=np.zeros([n, n])-1\n",
    "    K_mat=np.zeros([n, n])-1\n",
    "    \n",
    "    for j in range(n):\n",
    "        for i in range(j-(minarc+1),-1,-1):\n",
    "            mpairs, max_k=merge(i, j)\n",
    "            K_mat[i, j]=max_k\n",
    "            Pair_mat[i, j]=max(Pair_mat[i+1, j], Pair_mat[i, j-1],\n",
    "                              Pair_mat[i+1, j-1]+is_compl(seq[i], seq[j]),\n",
    "                              mpairs)\n",
    "            Path_mat[i, j]=np.argmax([Pair_mat[i+1, j], Pair_mat[i, j-1],\n",
    "                              Pair_mat[i+1, j-1]+is_compl(seq[i], seq[j]),\n",
    "                              mpairs])\n",
    "    \n",
    "    def reconstruct(i, j):\n",
    "        fold=[]\n",
    "        while Path_mat[i, j]!=-1:\n",
    "            if Path_mat[i, j]==0:\n",
    "                i+=1\n",
    "            elif Path_mat[i, j]==1:\n",
    "                j-=1\n",
    "            elif Path_mat[i, j]==2:\n",
    "                fold.append([(i, j), (seq[i], seq[j])])\n",
    "                i+=1\n",
    "                j-=1\n",
    "            elif Path_mat[i, j]==3:\n",
    "                fold.append([(K_mat[i, j], K_mat[i, j]+1),(seq[K_mat[i,j]], seq[K_mat[i,j]+1])])\n",
    "                return fold+reconstruct(i, K_mat[i, j])+reconstruct(K_mat[i, j]+1, j)\n",
    "            else:\n",
    "                raise ValueError('Wrong Path Matrix')\n",
    "        return fold    \n",
    "    \n",
    "    Folding=reconstruct(0, n-1)\n",
    "    \n",
    "    return Pair_mat, Path_mat, Folding"
   ]
  },
  {
   "cell_type": "code",
   "execution_count": 76,
   "metadata": {},
   "outputs": [],
   "source": [
    "P, PM, F=Nussinov('GGACC')"
   ]
  },
  {
   "cell_type": "code",
   "execution_count": 79,
   "metadata": {},
   "outputs": [
    {
     "data": {
      "text/plain": [
       "1.0"
      ]
     },
     "execution_count": 79,
     "metadata": {},
     "output_type": "execute_result"
    }
   ],
   "source": [
    "np.max(P)"
   ]
  },
  {
   "cell_type": "code",
   "execution_count": 78,
   "metadata": {},
   "outputs": [
    {
     "data": {
      "text/plain": [
       "[[(0, 4), ('G', 'C')]]"
      ]
     },
     "execution_count": 78,
     "metadata": {},
     "output_type": "execute_result"
    }
   ],
   "source": [
    "F"
   ]
  },
  {
   "cell_type": "code",
   "execution_count": 80,
   "metadata": {},
   "outputs": [],
   "source": [
    "P, PM, F=Nussinov('AAACAUGAGGAUUACCCAUGU')"
   ]
  },
  {
   "cell_type": "code",
   "execution_count": 81,
   "metadata": {},
   "outputs": [
    {
     "data": {
      "text/plain": [
       "7.0"
      ]
     },
     "execution_count": 81,
     "metadata": {},
     "output_type": "execute_result"
    }
   ],
   "source": [
    "np.max(P)"
   ]
  },
  {
   "cell_type": "code",
   "execution_count": 74,
   "metadata": {},
   "outputs": [
    {
     "data": {
      "text/plain": [
       "[[(2, 20), ('A', 'U')],\n",
       " [(3, 19), ('C', 'G')],\n",
       " [(4, 18), ('A', 'U')],\n",
       " [(5, 17), ('U', 'A')],\n",
       " [(6, 16), ('G', 'C')],\n",
       " [(8, 15), ('G', 'C')],\n",
       " [(9, 14), ('G', 'C')]]"
      ]
     },
     "execution_count": 74,
     "metadata": {},
     "output_type": "execute_result"
    }
   ],
   "source": [
    "F"
   ]
  }
 ],
 "metadata": {
  "kernelspec": {
   "display_name": "Python 3",
   "language": "python",
   "name": "python3"
  },
  "language_info": {
   "codemirror_mode": {
    "name": "ipython",
    "version": 3
   },
   "file_extension": ".py",
   "mimetype": "text/x-python",
   "name": "python",
   "nbconvert_exporter": "python",
   "pygments_lexer": "ipython3",
   "version": "3.6.4"
  }
 },
 "nbformat": 4,
 "nbformat_minor": 2
}
