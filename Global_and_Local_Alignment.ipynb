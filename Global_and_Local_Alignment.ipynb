{
 "cells": [
  {
   "cell_type": "code",
   "execution_count": 93,
   "metadata": {},
   "outputs": [],
   "source": [
    "class Cost_mat():\n",
    "    \n",
    "    def __init__(self, seq, arr):\n",
    "        import numpy as np\n",
    "        arr=np.array(arr)\n",
    "        if sum([seq.count(ch) for ch in seq])!=len(seq):\n",
    "            raise ValueError('Sequnce contains repeating characters')\n",
    "        elif len(arr.shape)!=2 or arr.shape[0]!=arr.shape[1]:\n",
    "            raise ValueError('Array is not a two-dimensional square array')\n",
    "        elif len(seq)!=arr.shape[0]:\n",
    "            raise ValueError('Array dimension does not match sequence length')\n",
    "        elif '-' not in seq:\n",
    "            raise ValueError('Sequnce must contain \"-\" sign')\n",
    "        else:\n",
    "            self.characters=seq\n",
    "            self.matrix=np.array(arr)\n",
    "        \n",
    "    def acces(self, ch_1, ch_2):\n",
    "        i=self.characters.index(ch_1)\n",
    "        j=self.characters.index(ch_2)\n",
    "        return self.matrix[i][j]\n",
    "    "
   ]
  },
  {
   "cell_type": "code",
   "execution_count": 11,
   "metadata": {},
   "outputs": [],
   "source": [
    "def Needleman_Wunsch(seq_1, seq_2, indel=-1, missmatch=-1, match=1, cost_mat=None):\n",
    "    import numpy as np\n",
    "    import itertools\n",
    "\n",
    "    def cost_func(el_1, el_2, indel=indel, missmatch=missmatch, match=match, cost_mat=cost_mat):\n",
    "        if cost_mat:\n",
    "            return cost_mat.acces(el_1, el_2)\n",
    "        elif el_1=='-' or el_2=='-':\n",
    "            return indel\n",
    "        else:\n",
    "            return match if el_1==el_2 else missmatch\n",
    "    \n",
    "    Dist_mat=np.empty([len(seq_1)+1, len(seq_2)+1])\n",
    "    Path_mat=np.empty([len(seq_1)+1, len(seq_2)+1])\n",
    "    \n",
    "    Dist_mat[:,0]=[x*indel for x in range(0, len(seq_1)+1)]\n",
    "    Dist_mat[0,:]=[x*indel for x in range(0, len(seq_2)+1)]\n",
    "    \n",
    "    Path_mat[:,0]=[0]*(len(seq_1)+1)\n",
    "    Path_mat[0,:]=[1]*(len(seq_2)+1)\n",
    "\n",
    "    for i, j in itertools.product(range(1, len(seq_1)+1), range(1, len(seq_2)+1)):\n",
    "    \n",
    "        Dist_mat[i, j]=max(Dist_mat[i-1,j]+cost_func(seq_1[i-1], '-'), Dist_mat[i, j-1]+cost_func('-', seq_2[j-1]), \n",
    "                           Dist_mat[i-1,j-1]+cost_func(seq_1[i-1], seq_2[j-1]))\n",
    "        \n",
    "        Path_mat[i, j]=np.argmax([Dist_mat[i-1,j]+cost_func(seq_1[i-1], '-'), Dist_mat[i, j-1]+cost_func('-', seq_2[j-1]), \n",
    "                           Dist_mat[i-1,j-1]+cost_func(seq_1[i-1], seq_2[j-1])])\n",
    "\n",
    "    Alignment=[[],[]]\n",
    "    \n",
    "    i,j=len(seq_1),len(seq_2)\n",
    "    \n",
    "    while (i,j)!=(0,0):\n",
    "        \n",
    "        if Path_mat[i, j]==0: #Deletion\n",
    "            Alignment[0].append(seq_1[i-1])\n",
    "            Alignment[1].append('-')\n",
    "            i-=1\n",
    "        elif Path_mat[i, j]==1: #Insertion\n",
    "            Alignment[0].append('-')\n",
    "            Alignment[1].append(seq_2[j-1])\n",
    "            j-=1\n",
    "        else: #Match/Missmatch\n",
    "            Alignment[0].append(seq_1[i-1])\n",
    "            Alignment[1].append(seq_2[j-1])\n",
    "            i-=1\n",
    "            j-=1\n",
    "            \n",
    "        \n",
    "    Alignment[0]=Alignment[0][::-1]\n",
    "    Alignment[1]=Alignment[1][::-1]\n",
    "    return Dist_mat, Alignment"
   ]
  },
  {
   "cell_type": "code",
   "execution_count": 94,
   "metadata": {},
   "outputs": [],
   "source": [
    "def Smith_Waterman(seq_1, seq_2, indel=-1, missmatch=-1, match=1, cost_mat=None):\n",
    "    import numpy as np\n",
    "    import itertools\n",
    "\n",
    "    def cost_func(el_1, el_2, indel=indel, missmatch=missmatch, match=match, cost_mat=cost_mat):\n",
    "        if cost_mat:\n",
    "            return cost_mat.acces(el_1, el_2)\n",
    "        elif el_1=='-' or el_2=='-':\n",
    "            return indel\n",
    "        else:\n",
    "            return match if el_1==el_2 else missmatch\n",
    "    \n",
    "    Dist_mat=np.empty([len(seq_1)+1, len(seq_2)+1])\n",
    "    Path_mat=np.empty([len(seq_1)+1, len(seq_2)+1])\n",
    "    \n",
    "    Dist_mat[:,0]=[0]*(len(seq_1)+1)\n",
    "    Dist_mat[0,:]=[0]*(len(seq_2)+1)\n",
    "    \n",
    "    Path_mat[:,0]=[0]*(len(seq_1)+1)\n",
    "    Path_mat[0,:]=[1]*(len(seq_2)+1)\n",
    "\n",
    "    for i, j in itertools.product(range(1, len(seq_1)+1), range(1, len(seq_2)+1)):\n",
    "    \n",
    "        Dist_mat[i, j]=max(Dist_mat[i-1,j]+cost_func(seq_1[i-1], '-'), Dist_mat[i, j-1]+cost_func('-', seq_2[j-1]), \n",
    "                           Dist_mat[i-1,j-1]+cost_func(seq_1[i-1], seq_2[j-1]), 0)\n",
    "        \n",
    "        Path_mat[i, j]=np.argmax([Dist_mat[i-1,j]+cost_func(seq_1[i-1], '-'), Dist_mat[i, j-1]+cost_func('-', seq_2[j-1]), \n",
    "                           Dist_mat[i-1,j-1]+cost_func(seq_1[i-1], seq_2[j-1])])\n",
    "      \n",
    "    Local_Alignment=[[],[]]\n",
    "    \n",
    "    flag_1=True\n",
    "    flag_2=True\n",
    "    while (i,j)!=(0,0):\n",
    "        \n",
    "        if Dist_mat[i,j]==np.max(Dist_mat) and flag_1:\n",
    "            Local_Alignment[0].append('*')\n",
    "            Local_Alignment[1].append('*')\n",
    "            flag_1=False\n",
    "        if Dist_mat[i,j]==0 and flag_2:\n",
    "            Local_Alignment[0].append('*')\n",
    "            Local_Alignment[1].append('*')\n",
    "            flag_2=False\n",
    "        \n",
    "        if Path_mat[i, j]==0: #Deletion\n",
    "            Local_Alignment[0].append(seq_1[i-1])\n",
    "            Local_Alignment[1].append('-')\n",
    "            i-=1\n",
    "        elif Path_mat[i, j]==1: #Insertion\n",
    "            Local_Alignment[0].append('-')\n",
    "            Local_Alignment[1].append(seq_2[j-1])\n",
    "            j-=1\n",
    "        else: #Match/Missmatch\n",
    "            Local_Alignment[0].append(seq_1[i-1])\n",
    "            Local_Alignment[1].append(seq_2[j-1])\n",
    "            i-=1\n",
    "            j-=1\n",
    "                \n",
    "    Local_Alignment=[x[::-1] for x in Local_Alignment]\n",
    "    \n",
    "    return Dist_mat, Local_Alignment"
   ]
  },
  {
   "cell_type": "markdown",
   "metadata": {},
   "source": [
    "## Fixed constant penalties\n",
    "### Same length sequences, their alignment contains both gaps and missmatches"
   ]
  },
  {
   "cell_type": "code",
   "execution_count": 12,
   "metadata": {},
   "outputs": [],
   "source": [
    "D, A=Needleman_Wunsch('EDTNG', 'DSTNC', -1, -1, 1)"
   ]
  },
  {
   "cell_type": "code",
   "execution_count": 13,
   "metadata": {},
   "outputs": [
    {
     "name": "stdout",
     "output_type": "stream",
     "text": [
      "['E', 'D', '-', 'T', 'N', 'G']\n",
      "['-', 'D', 'S', 'T', 'N', 'C']\n"
     ]
    }
   ],
   "source": [
    "print(A[0])\n",
    "print(A[1])"
   ]
  },
  {
   "cell_type": "markdown",
   "metadata": {},
   "source": [
    "### Different weights"
   ]
  },
  {
   "cell_type": "code",
   "execution_count": 14,
   "metadata": {},
   "outputs": [],
   "source": [
    "D_m, A_m=Needleman_Wunsch('EDTNG', 'DSTNC', -0.499, -1, 1)"
   ]
  },
  {
   "cell_type": "code",
   "execution_count": 15,
   "metadata": {},
   "outputs": [
    {
     "name": "stdout",
     "output_type": "stream",
     "text": [
      "['E', 'D', '-', 'T', 'N', '-', 'G']\n",
      "['-', 'D', 'S', 'T', 'N', 'C', '-']\n"
     ]
    }
   ],
   "source": [
    "print(A_m[0])\n",
    "print(A_m[1])"
   ]
  },
  {
   "cell_type": "markdown",
   "metadata": {},
   "source": [
    "As expected, the algoritm preffers a pair of insertion and deletion with overall weight of -0.998 to a single missmatch with a weight of -1."
   ]
  },
  {
   "cell_type": "markdown",
   "metadata": {},
   "source": [
    "## Alignment with substitution weight matrix"
   ]
  },
  {
   "cell_type": "code",
   "execution_count": 4,
   "metadata": {},
   "outputs": [],
   "source": [
    "C=Cost_mat('-ABC', ([[1,-1,-1,-1], [-1, 1, -0.8, -1.5], [-1, -0.8, 1, -2], [-1, -1.5, -2, 1]]))"
   ]
  },
  {
   "cell_type": "code",
   "execution_count": 24,
   "metadata": {},
   "outputs": [],
   "source": [
    "D_c, A_c=Needleman_Wunsch('ABCAAA','ABCBACB', cost_mat=C)"
   ]
  },
  {
   "cell_type": "code",
   "execution_count": 25,
   "metadata": {},
   "outputs": [
    {
     "name": "stdout",
     "output_type": "stream",
     "text": [
      "['A', 'B', 'C', 'A', 'A', '-', 'A']\n",
      "['A', 'B', 'C', 'B', 'A', 'C', 'B']\n"
     ]
    }
   ],
   "source": [
    "print(A_c[0])\n",
    "print(A_c[1])"
   ]
  },
  {
   "cell_type": "markdown",
   "metadata": {},
   "source": [
    "Let's change a single value in the weight matrix so the optimal alignment would change."
   ]
  },
  {
   "cell_type": "code",
   "execution_count": 26,
   "metadata": {},
   "outputs": [],
   "source": [
    "C_m=Cost_mat('-ABC', ([[1,-1,-1,-1], [-1, 1, -10, -1.5], [-1, -0.8, 1, -2], [-1, -1.5, -2, 1]]))"
   ]
  },
  {
   "cell_type": "code",
   "execution_count": 29,
   "metadata": {},
   "outputs": [],
   "source": [
    "D_c, A_c=Needleman_Wunsch('ABCAAA','ABCBACB', cost_mat=C_m)"
   ]
  },
  {
   "cell_type": "code",
   "execution_count": 30,
   "metadata": {},
   "outputs": [
    {
     "name": "stdout",
     "output_type": "stream",
     "text": [
      "['A', 'B', 'C', '-', 'A', 'A', '-', 'A']\n",
      "['A', 'B', 'C', 'B', 'A', 'C', 'B', '-']\n"
     ]
    }
   ],
   "source": [
    "print(A_c[0])\n",
    "print(A_c[1])"
   ]
  },
  {
   "cell_type": "markdown",
   "metadata": {},
   "source": [
    "## Local alignment"
   ]
  },
  {
   "cell_type": "code",
   "execution_count": 95,
   "metadata": {},
   "outputs": [],
   "source": [
    "LD, LA=Smith_Waterman('PWAPSQAABCABCCDACLWO', 'PWAKKSABCCDCSKS')\n",
    "ND, NA=Needleman_Wunsch('PWAPSQAABCABCCDACLWO', 'PWAKKSABCCDCSKS')"
   ]
  },
  {
   "cell_type": "code",
   "execution_count": 96,
   "metadata": {},
   "outputs": [
    {
     "name": "stdout",
     "output_type": "stream",
     "text": [
      "['P', 'W', 'A', 'P', '-', 'S', 'Q', 'A', 'A', 'B', 'C', 'A', 'B', 'C', 'C', 'D', 'A', 'C', 'L', 'W', 'O']\n",
      "['P', 'W', 'A', 'K', 'K', 'S', '-', 'A', '-', 'B', 'C', '-', '-', 'C', '-', 'D', '-', 'C', 'S', 'K', 'S']\n"
     ]
    }
   ],
   "source": [
    "print(NA[0])\n",
    "print(NA[1])"
   ]
  },
  {
   "cell_type": "markdown",
   "metadata": {},
   "source": [
    "Star signs * mark local alignment."
   ]
  },
  {
   "cell_type": "code",
   "execution_count": 97,
   "metadata": {},
   "outputs": [
    {
     "name": "stdout",
     "output_type": "stream",
     "text": [
      "['P', 'W', 'A', 'P', '-', 'S', 'Q', 'A', 'A', 'B', 'C', '*', 'A', 'B', 'C', 'C', 'D', 'A', 'C', '*', 'L', 'W', 'O']\n",
      "['P', 'W', 'A', 'K', 'K', 'S', '-', '-', '-', '-', '-', '*', 'A', 'B', 'C', 'C', 'D', '-', 'C', '*', 'S', 'K', 'S']\n"
     ]
    }
   ],
   "source": [
    "print(LA[0])\n",
    "print(LA[1])"
   ]
  }
 ],
 "metadata": {
  "kernelspec": {
   "display_name": "Python 3",
   "language": "python",
   "name": "python3"
  },
  "language_info": {
   "codemirror_mode": {
    "name": "ipython",
    "version": 3
   },
   "file_extension": ".py",
   "mimetype": "text/x-python",
   "name": "python",
   "nbconvert_exporter": "python",
   "pygments_lexer": "ipython3",
   "version": "3.6.4"
  }
 },
 "nbformat": 4,
 "nbformat_minor": 2
}
