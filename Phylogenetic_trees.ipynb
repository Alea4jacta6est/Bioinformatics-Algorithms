{
 "cells": [
  {
   "cell_type": "code",
   "execution_count": 1,
   "metadata": {},
   "outputs": [],
   "source": [
    "def UWPGMA(frame, weighted=True):\n",
    "    \n",
    "    import pandas as pd\n",
    "    import numpy as np\n",
    "    \n",
    "    def min_ind(frame):\n",
    "        ind=frame.values.argmin()\n",
    "        row=ind//frame.shape[0]\n",
    "        col=ind%frame.shape[1]\n",
    "        name_t=(frame.index[row], frame.columns[col])\n",
    "        return name_t\n",
    "    \n",
    "    Weights={key: 1 for key in frame.index}\n",
    "    \n",
    "    def weight(el):\n",
    "        return 1 if weighted else Weights[el]\n",
    "        \n",
    "    def weights_upd(el_1, el_2):\n",
    "        Weights[el_1+el_2]=Weights[el_1]+Weights[el_2]\n",
    "        \n",
    "    def format_matrix(frame, el_1, el_2):\n",
    "        temp=frame.iloc[(frame.index!=el_1) & (frame.index!=el_2), (frame.columns!=el_1) & (frame.columns!=el_2)]\n",
    "        distances=[]\n",
    "        \n",
    "        for c in temp.index:\n",
    "            f_1=(frame.loc[c, el_1] if frame.loc[c, el_1]!=np.inf else frame.loc[el_1, c])\n",
    "            f_2=(frame.loc[c, el_2] if frame.loc[c, el_2]!=np.inf else frame.loc[el_2, c])\n",
    "            dist=(weight(m_name[0])*f_1+weight(m_name[1])*f_2)/(weight(m_name[0])+weight(m_name[1]))\n",
    "            distances.append(dist)\n",
    "        \n",
    "        temp[el_1+el_2]=distances\n",
    "        row_to_app=pd.Series([np.inf]*temp.shape[1], index=temp.columns, name=el_1+el_2)\n",
    "        temp=temp.append(row_to_app)\n",
    "        \n",
    "        return temp\n",
    "        \n",
    "    Tree_struct={}\n",
    "    Inner_dist={key: 0 for key in frame.index}\n",
    "    \n",
    "    def merge(el_1, el_2):\n",
    "        Dist=(frame.loc[el_1, el_2] if frame.loc[el_1, el_2]!=np.inf else frame.loc[el_2, el_1])\n",
    "        m_1=(Tree_struct[el_1] if el_1 in Tree_struct else el_1)\n",
    "        m_2=(Tree_struct[el_2] if el_2 in Tree_struct else el_2)\n",
    "        Tree_struct[el_1+el_2]='({}: {}, {}: {})'.format(m_1, Dist/2-Inner_dist[el_1], \n",
    "                                                         m_2, Dist/2-Inner_dist[el_2])\n",
    "        Inner_dist[el_1+el_2]=Dist/2\n",
    "            \n",
    "    while np.sum(frame.values.flatten()!=np.inf)!=1:\n",
    "        \n",
    "        m_name=min_ind(frame)\n",
    "        \n",
    "        merge(*m_name)\n",
    "        weights_upd(*m_name)\n",
    "        frame=format_matrix(frame, *m_name)\n",
    "        \n",
    "    final_name=min_ind(frame)\n",
    "    merge(*final_name)\n",
    "        \n",
    "    return frame, Tree_struct[final_name[0]+final_name[1]]"
   ]
  },
  {
   "cell_type": "code",
   "execution_count": 143,
   "metadata": {},
   "outputs": [],
   "source": [
    "def NeighborJoin(frame):\n",
    "    \n",
    "    import pandas as pd\n",
    "    import numpy as np\n",
    "    \n",
    "    '''\n",
    "    def corr_ind(ind):\n",
    "        return '-'.join(sorted(index.split('-')))\n",
    "    '''\n",
    "\n",
    "    def swap_if(*args):\n",
    "        i=frame.index.get_loc(args[0])\n",
    "        j=frame.columns.get_loc(args[1])\n",
    "        return args[::-1] if i>j else args\n",
    "        \n",
    "    Terms=pd.Series([np.sum([frame.loc[swap_if(col, comp)] if comp!=col else 0 for comp in frame.columns])\\\n",
    "                          for col in frame.columns], \n",
    "                          name='Common_Terms', index=frame.columns)\n",
    "    \n",
    "    #Очень важно, TERMS нужно обновлять для всех последовательностей, когда какая-либо удаляется, то есть\n",
    "    #становится узлом, и добавляется новый узел!\n",
    "    #Inner_dist={}#Надо ли??\n",
    "    \n",
    "    def delete_Terms(Terms, nodes):\n",
    "        Terms=Terms.drop(nodes)\n",
    "        for i in Terms.index:\n",
    "            Terms[i]=Terms[i]-frame.loc[swap_if(i, nodes[0])]-frame.loc[swap_if(i, nodes[1])]\n",
    "        return Terms\n",
    "    \n",
    "    def add_Terms(Terms, new_node):\n",
    "        for i in Terms.index:\n",
    "            Terms[i]=Terms[i]+frame.loc[swap_if(i, new_node)]\n",
    "        Terms[new_node]=np.sum([frame.loc[swap_if(new_node, comp)] if comp!=new_node else 0\\\n",
    "                                for comp in frame.columns])\n",
    "        return Terms\n",
    "    \n",
    "    Tree_struct={}\n",
    "    \n",
    "    def merge(dist, el_1, el_2):\n",
    "        m_1=(Tree_struct[el_1] if el_1 in Tree_struct else el_1)\n",
    "        m_2=(Tree_struct[el_2] if el_2 in Tree_struct else el_2)\n",
    "        D_1=0.5*(dist+2*(Terms[el_1]-frame.loc[swap_if(el_1, el_2)])/(frame.shape[0]-2))\n",
    "        D_2=0.5*(dist+2*(Terms[el_2]-frame.loc[swap_if(el_1, el_2)])/(frame.shape[0]-2))\n",
    "        Tree_struct[el_1+el_2]='({}: {}, {}: {})'.format(m_1, D_1, \n",
    "                                                         m_2, D_2)\n",
    "    \n",
    "    def update_frame(frame, dist, el_1, el_2):\n",
    "        temp=frame.iloc[(frame.index!=el_1) & (frame.index!=el_2), \\\n",
    "                        (frame.columns!=el_1) & (frame.columns!=el_2)]\n",
    "        distances=[]\n",
    "        \n",
    "        for c in temp.index:\n",
    "            D=0.5*(frame.loc[swap_if(c, el_1)]+frame.loc[swap_if(c, el_2)]-dist)\n",
    "            distances.append(D)\n",
    "        \n",
    "        temp[el_1+el_2]=distances\n",
    "        row_to_app=pd.Series([np.inf]*temp.shape[1], index=temp.columns, name=el_1+el_2)\n",
    "        temp=temp.append(row_to_app)\n",
    "        return temp\n",
    "    \n",
    "    def closest_pair(frame):\n",
    "        row=''\n",
    "        col=''\n",
    "        minimum=np.inf\n",
    "        for j in range(1, frame.shape[1]):\n",
    "            for i in range(j):\n",
    "                #print(frame.index[i], frame.index[j])\n",
    "                #print((Terms[frame.index[i]]-frame.iloc[i, j])/(frame.shape[0]-2))\n",
    "                #print((Terms[frame.index[j]]-frame.iloc[i, j])/(frame.shape[0]-2))\n",
    "                Dist=frame.iloc[i, j]\\\n",
    "                -(Terms[frame.index[i]]-frame.iloc[i, j])/(frame.shape[0]-2)\\\n",
    "                -(Terms[frame.index[j]]-frame.iloc[i, j])/(frame.shape[0]-2)\n",
    "                #print(Dist)\n",
    "                if Dist<minimum:\n",
    "                    minimum=Dist\n",
    "                    row=frame.index[i]\n",
    "                    col=frame.index[j]\n",
    "        return [row, col], minimum\n",
    "    \n",
    "    while np.sum(frame.values.flatten()!=np.inf)!=1:\n",
    "        \n",
    "        m_name, dist=closest_pair(frame)\n",
    "        merge(dist, *m_name)\n",
    "        Terms=delete_Terms(Terms, m_name)\n",
    "        frame=update_frame(frame, dist, *m_name)\n",
    "        Terms=add_Terms(Terms, m_name[0]+m_name[1])\n",
    "        \n",
    "    final_name=[frame.index[0], frame.columns[-1]]\n",
    "    dist=frame.iloc[0, -1]\n",
    "    Tree_struct[''.join(final_name)]='({}: {}, {}: {})'.format(Tree_struct[final_name[0]], dist/2, \n",
    "                                                        Tree_struct[final_name[1]], dist/2)\n",
    "    return frame, Tree_struct[''.join(final_name)]"
   ]
  },
  {
   "cell_type": "code",
   "execution_count": 5,
   "metadata": {},
   "outputs": [],
   "source": [
    "import pandas as pd\n",
    "import numpy as np"
   ]
  },
  {
   "cell_type": "markdown",
   "metadata": {},
   "source": [
    "# Testing U(W)PGMA"
   ]
  },
  {
   "cell_type": "code",
   "execution_count": 142,
   "metadata": {},
   "outputs": [
    {
     "data": {
      "text/html": [
       "<div>\n",
       "<style scoped>\n",
       "    .dataframe tbody tr th:only-of-type {\n",
       "        vertical-align: middle;\n",
       "    }\n",
       "\n",
       "    .dataframe tbody tr th {\n",
       "        vertical-align: top;\n",
       "    }\n",
       "\n",
       "    .dataframe thead th {\n",
       "        text-align: right;\n",
       "    }\n",
       "</style>\n",
       "<table border=\"1\" class=\"dataframe\">\n",
       "  <thead>\n",
       "    <tr style=\"text-align: right;\">\n",
       "      <th></th>\n",
       "      <th>A</th>\n",
       "      <th>B</th>\n",
       "      <th>C</th>\n",
       "      <th>D</th>\n",
       "    </tr>\n",
       "  </thead>\n",
       "  <tbody>\n",
       "    <tr>\n",
       "      <th>A</th>\n",
       "      <td>inf</td>\n",
       "      <td>16.000000</td>\n",
       "      <td>16.000000</td>\n",
       "      <td>10.000000</td>\n",
       "    </tr>\n",
       "    <tr>\n",
       "      <th>B</th>\n",
       "      <td>inf</td>\n",
       "      <td>inf</td>\n",
       "      <td>8.000000</td>\n",
       "      <td>8.000000</td>\n",
       "    </tr>\n",
       "    <tr>\n",
       "      <th>C</th>\n",
       "      <td>inf</td>\n",
       "      <td>inf</td>\n",
       "      <td>inf</td>\n",
       "      <td>4.000000</td>\n",
       "    </tr>\n",
       "    <tr>\n",
       "      <th>D</th>\n",
       "      <td>inf</td>\n",
       "      <td>inf</td>\n",
       "      <td>inf</td>\n",
       "      <td>inf</td>\n",
       "    </tr>\n",
       "  </tbody>\n",
       "</table>\n",
       "</div>"
      ],
      "text/plain": [
       "     A          B          C          D\n",
       "A  inf  16.000000  16.000000  10.000000\n",
       "B  inf        inf   8.000000   8.000000\n",
       "C  inf        inf        inf   4.000000\n",
       "D  inf        inf        inf        inf"
      ]
     },
     "execution_count": 142,
     "metadata": {},
     "output_type": "execute_result"
    }
   ],
   "source": [
    "Test_1=pd.DataFrame([[np.inf, 16, 16, 10],[np.inf, np.inf, 8, 8], \n",
    "                     [np.inf, np.inf, np.inf, 4], [np.inf, np.inf, np.inf, np.inf]],\n",
    "                   index=['A', 'B', 'C', 'D'], columns=['A', 'B', 'C', 'D'])\n",
    "Test_1"
   ]
  },
  {
   "cell_type": "code",
   "execution_count": 4,
   "metadata": {},
   "outputs": [
    {
     "data": {
      "text/html": [
       "<div>\n",
       "<style scoped>\n",
       "    .dataframe tbody tr th:only-of-type {\n",
       "        vertical-align: middle;\n",
       "    }\n",
       "\n",
       "    .dataframe tbody tr th {\n",
       "        vertical-align: top;\n",
       "    }\n",
       "\n",
       "    .dataframe thead th {\n",
       "        text-align: right;\n",
       "    }\n",
       "</style>\n",
       "<table border=\"1\" class=\"dataframe\">\n",
       "  <thead>\n",
       "    <tr style=\"text-align: right;\">\n",
       "      <th></th>\n",
       "      <th>A</th>\n",
       "      <th>BCD</th>\n",
       "    </tr>\n",
       "  </thead>\n",
       "  <tbody>\n",
       "    <tr>\n",
       "      <th>A</th>\n",
       "      <td>inf</td>\n",
       "      <td>14.500000</td>\n",
       "    </tr>\n",
       "    <tr>\n",
       "      <th>BCD</th>\n",
       "      <td>inf</td>\n",
       "      <td>inf</td>\n",
       "    </tr>\n",
       "  </tbody>\n",
       "</table>\n",
       "</div>"
      ],
      "text/plain": [
       "       A        BCD\n",
       "A    inf  14.500000\n",
       "BCD  inf        inf"
      ]
     },
     "execution_count": 4,
     "metadata": {},
     "output_type": "execute_result"
    }
   ],
   "source": [
    "F, T_s=UWPGMA(Test_1)\n",
    "F"
   ]
  },
  {
   "cell_type": "code",
   "execution_count": 5,
   "metadata": {},
   "outputs": [
    {
     "data": {
      "text/plain": [
       "'(A: 7.25, (B: 4.0, (C: 2.0, D: 2.0): 2.0): 3.25)'"
      ]
     },
     "execution_count": 5,
     "metadata": {},
     "output_type": "execute_result"
    }
   ],
   "source": [
    "T_s"
   ]
  },
  {
   "cell_type": "code",
   "execution_count": 6,
   "metadata": {},
   "outputs": [
    {
     "data": {
      "text/html": [
       "<div>\n",
       "<style scoped>\n",
       "    .dataframe tbody tr th:only-of-type {\n",
       "        vertical-align: middle;\n",
       "    }\n",
       "\n",
       "    .dataframe tbody tr th {\n",
       "        vertical-align: top;\n",
       "    }\n",
       "\n",
       "    .dataframe thead th {\n",
       "        text-align: right;\n",
       "    }\n",
       "</style>\n",
       "<table border=\"1\" class=\"dataframe\">\n",
       "  <thead>\n",
       "    <tr style=\"text-align: right;\">\n",
       "      <th></th>\n",
       "      <th>A</th>\n",
       "      <th>BCD</th>\n",
       "    </tr>\n",
       "  </thead>\n",
       "  <tbody>\n",
       "    <tr>\n",
       "      <th>A</th>\n",
       "      <td>inf</td>\n",
       "      <td>14.000000</td>\n",
       "    </tr>\n",
       "    <tr>\n",
       "      <th>BCD</th>\n",
       "      <td>inf</td>\n",
       "      <td>inf</td>\n",
       "    </tr>\n",
       "  </tbody>\n",
       "</table>\n",
       "</div>"
      ],
      "text/plain": [
       "       A        BCD\n",
       "A    inf  14.000000\n",
       "BCD  inf        inf"
      ]
     },
     "execution_count": 6,
     "metadata": {},
     "output_type": "execute_result"
    }
   ],
   "source": [
    "F, T_s=UWPGMA(Test_1, weighted=False)\n",
    "F"
   ]
  },
  {
   "cell_type": "code",
   "execution_count": 7,
   "metadata": {},
   "outputs": [
    {
     "data": {
      "text/plain": [
       "'(A: 7.0, (B: 4.0, (C: 2.0, D: 2.0): 2.0): 3.0)'"
      ]
     },
     "execution_count": 7,
     "metadata": {},
     "output_type": "execute_result"
    }
   ],
   "source": [
    "T_s"
   ]
  },
  {
   "cell_type": "code",
   "execution_count": 6,
   "metadata": {},
   "outputs": [
    {
     "data": {
      "text/html": [
       "<div>\n",
       "<style scoped>\n",
       "    .dataframe tbody tr th:only-of-type {\n",
       "        vertical-align: middle;\n",
       "    }\n",
       "\n",
       "    .dataframe tbody tr th {\n",
       "        vertical-align: top;\n",
       "    }\n",
       "\n",
       "    .dataframe thead th {\n",
       "        text-align: right;\n",
       "    }\n",
       "</style>\n",
       "<table border=\"1\" class=\"dataframe\">\n",
       "  <thead>\n",
       "    <tr style=\"text-align: right;\">\n",
       "      <th></th>\n",
       "      <th>A</th>\n",
       "      <th>B</th>\n",
       "      <th>C</th>\n",
       "      <th>D</th>\n",
       "      <th>E</th>\n",
       "      <th>F</th>\n",
       "    </tr>\n",
       "  </thead>\n",
       "  <tbody>\n",
       "    <tr>\n",
       "      <th>A</th>\n",
       "      <td>inf</td>\n",
       "      <td>5.000000</td>\n",
       "      <td>4.000000</td>\n",
       "      <td>7.000000</td>\n",
       "      <td>6.000000</td>\n",
       "      <td>8.000000</td>\n",
       "    </tr>\n",
       "    <tr>\n",
       "      <th>B</th>\n",
       "      <td>inf</td>\n",
       "      <td>inf</td>\n",
       "      <td>7.000000</td>\n",
       "      <td>10.000000</td>\n",
       "      <td>9.000000</td>\n",
       "      <td>11.000000</td>\n",
       "    </tr>\n",
       "    <tr>\n",
       "      <th>C</th>\n",
       "      <td>inf</td>\n",
       "      <td>inf</td>\n",
       "      <td>inf</td>\n",
       "      <td>7.000000</td>\n",
       "      <td>6.000000</td>\n",
       "      <td>8.000000</td>\n",
       "    </tr>\n",
       "    <tr>\n",
       "      <th>D</th>\n",
       "      <td>inf</td>\n",
       "      <td>inf</td>\n",
       "      <td>inf</td>\n",
       "      <td>inf</td>\n",
       "      <td>5.000000</td>\n",
       "      <td>9.000000</td>\n",
       "    </tr>\n",
       "    <tr>\n",
       "      <th>E</th>\n",
       "      <td>inf</td>\n",
       "      <td>inf</td>\n",
       "      <td>inf</td>\n",
       "      <td>inf</td>\n",
       "      <td>inf</td>\n",
       "      <td>8.000000</td>\n",
       "    </tr>\n",
       "    <tr>\n",
       "      <th>F</th>\n",
       "      <td>inf</td>\n",
       "      <td>inf</td>\n",
       "      <td>inf</td>\n",
       "      <td>inf</td>\n",
       "      <td>inf</td>\n",
       "      <td>inf</td>\n",
       "    </tr>\n",
       "  </tbody>\n",
       "</table>\n",
       "</div>"
      ],
      "text/plain": [
       "     A         B         C          D         E          F\n",
       "A  inf  5.000000  4.000000   7.000000  6.000000   8.000000\n",
       "B  inf       inf  7.000000  10.000000  9.000000  11.000000\n",
       "C  inf       inf       inf   7.000000  6.000000   8.000000\n",
       "D  inf       inf       inf        inf  5.000000   9.000000\n",
       "E  inf       inf       inf        inf       inf   8.000000\n",
       "F  inf       inf       inf        inf       inf        inf"
      ]
     },
     "execution_count": 6,
     "metadata": {},
     "output_type": "execute_result"
    }
   ],
   "source": [
    "Test_2=pd.DataFrame([[np.inf, 5, 4, 7, 6, 8],[np.inf, np.inf, 7, 10, 9, 11], \n",
    "                     [np.inf, np.inf, np.inf, 7, 6, 8], [np.inf, np.inf, np.inf, np.inf, 5, 9],\n",
    "                     [np.inf, np.inf, np.inf, np.inf, np.inf, 8],\n",
    "                     [np.inf, np.inf, np.inf, np.inf, np.inf, np.inf]],\n",
    "                   index=['A', 'B', 'C', 'D', 'E', 'F'], columns=['A', 'B', 'C', 'D', 'E', 'F'])\n",
    "Test_2"
   ]
  },
  {
   "cell_type": "code",
   "execution_count": 9,
   "metadata": {},
   "outputs": [
    {
     "data": {
      "text/html": [
       "<div>\n",
       "<style scoped>\n",
       "    .dataframe tbody tr th:only-of-type {\n",
       "        vertical-align: middle;\n",
       "    }\n",
       "\n",
       "    .dataframe tbody tr th {\n",
       "        vertical-align: top;\n",
       "    }\n",
       "\n",
       "    .dataframe thead th {\n",
       "        text-align: right;\n",
       "    }\n",
       "</style>\n",
       "<table border=\"1\" class=\"dataframe\">\n",
       "  <thead>\n",
       "    <tr style=\"text-align: right;\">\n",
       "      <th></th>\n",
       "      <th>F</th>\n",
       "      <th>DEBAC</th>\n",
       "    </tr>\n",
       "  </thead>\n",
       "  <tbody>\n",
       "    <tr>\n",
       "      <th>F</th>\n",
       "      <td>inf</td>\n",
       "      <td>9.000000</td>\n",
       "    </tr>\n",
       "    <tr>\n",
       "      <th>DEBAC</th>\n",
       "      <td>inf</td>\n",
       "      <td>inf</td>\n",
       "    </tr>\n",
       "  </tbody>\n",
       "</table>\n",
       "</div>"
      ],
      "text/plain": [
       "         F     DEBAC\n",
       "F      inf  9.000000\n",
       "DEBAC  inf       inf"
      ]
     },
     "execution_count": 9,
     "metadata": {},
     "output_type": "execute_result"
    }
   ],
   "source": [
    "F, T_s=UWPGMA(Test_2)\n",
    "F"
   ]
  },
  {
   "cell_type": "code",
   "execution_count": 10,
   "metadata": {},
   "outputs": [
    {
     "data": {
      "text/plain": [
       "'(F: 4.5, ((D: 2.5, E: 2.5): 1.5, (B: 3.0, (A: 2.0, C: 2.0): 1.0): 1.0): 0.5)'"
      ]
     },
     "execution_count": 10,
     "metadata": {},
     "output_type": "execute_result"
    }
   ],
   "source": [
    "T_s"
   ]
  },
  {
   "cell_type": "code",
   "execution_count": 11,
   "metadata": {},
   "outputs": [
    {
     "data": {
      "text/html": [
       "<div>\n",
       "<style scoped>\n",
       "    .dataframe tbody tr th:only-of-type {\n",
       "        vertical-align: middle;\n",
       "    }\n",
       "\n",
       "    .dataframe tbody tr th {\n",
       "        vertical-align: top;\n",
       "    }\n",
       "\n",
       "    .dataframe thead th {\n",
       "        text-align: right;\n",
       "    }\n",
       "</style>\n",
       "<table border=\"1\" class=\"dataframe\">\n",
       "  <thead>\n",
       "    <tr style=\"text-align: right;\">\n",
       "      <th></th>\n",
       "      <th>F</th>\n",
       "      <th>DEBAC</th>\n",
       "    </tr>\n",
       "  </thead>\n",
       "  <tbody>\n",
       "    <tr>\n",
       "      <th>F</th>\n",
       "      <td>inf</td>\n",
       "      <td>8.800000</td>\n",
       "    </tr>\n",
       "    <tr>\n",
       "      <th>DEBAC</th>\n",
       "      <td>inf</td>\n",
       "      <td>inf</td>\n",
       "    </tr>\n",
       "  </tbody>\n",
       "</table>\n",
       "</div>"
      ],
      "text/plain": [
       "         F     DEBAC\n",
       "F      inf  8.800000\n",
       "DEBAC  inf       inf"
      ]
     },
     "execution_count": 11,
     "metadata": {},
     "output_type": "execute_result"
    }
   ],
   "source": [
    "F, T_s=UWPGMA(Test_2, weighted=False)\n",
    "F"
   ]
  },
  {
   "cell_type": "code",
   "execution_count": 12,
   "metadata": {},
   "outputs": [
    {
     "data": {
      "text/plain": [
       "'(F: 4.4, ((D: 2.5, E: 2.5): 1.25, (B: 3.0, (A: 2.0, C: 2.0): 1.0): 0.75): 0.6500000000000004)'"
      ]
     },
     "execution_count": 12,
     "metadata": {},
     "output_type": "execute_result"
    }
   ],
   "source": [
    "T_s"
   ]
  },
  {
   "cell_type": "markdown",
   "metadata": {},
   "source": [
    "# Testing Neighbor-Join Algorithm"
   ]
  },
  {
   "cell_type": "code",
   "execution_count": 144,
   "metadata": {},
   "outputs": [],
   "source": [
    "F, T_s=NeighborJoin(Test_1)"
   ]
  },
  {
   "cell_type": "code",
   "execution_count": 145,
   "metadata": {},
   "outputs": [
    {
     "data": {
      "text/html": [
       "<div>\n",
       "<style scoped>\n",
       "    .dataframe tbody tr th:only-of-type {\n",
       "        vertical-align: middle;\n",
       "    }\n",
       "\n",
       "    .dataframe tbody tr th {\n",
       "        vertical-align: top;\n",
       "    }\n",
       "\n",
       "    .dataframe thead th {\n",
       "        text-align: right;\n",
       "    }\n",
       "</style>\n",
       "<table border=\"1\" class=\"dataframe\">\n",
       "  <thead>\n",
       "    <tr style=\"text-align: right;\">\n",
       "      <th></th>\n",
       "      <th>CD</th>\n",
       "      <th>AB</th>\n",
       "    </tr>\n",
       "  </thead>\n",
       "  <tbody>\n",
       "    <tr>\n",
       "      <th>CD</th>\n",
       "      <td>inf</td>\n",
       "      <td>30.000000</td>\n",
       "    </tr>\n",
       "    <tr>\n",
       "      <th>AB</th>\n",
       "      <td>inf</td>\n",
       "      <td>inf</td>\n",
       "    </tr>\n",
       "  </tbody>\n",
       "</table>\n",
       "</div>"
      ],
      "text/plain": [
       "     CD         AB\n",
       "CD  inf  30.000000\n",
       "AB  inf        inf"
      ]
     },
     "execution_count": 145,
     "metadata": {},
     "output_type": "execute_result"
    }
   ],
   "source": [
    "F"
   ]
  },
  {
   "cell_type": "code",
   "execution_count": 147,
   "metadata": {},
   "outputs": [
    {
     "data": {
      "text/plain": [
       "'((C: 3.5, D: 0.5): 15.0, (A: 10.5, B: 5.5): 15.0)'"
      ]
     },
     "execution_count": 147,
     "metadata": {},
     "output_type": "execute_result"
    }
   ],
   "source": [
    "T_s"
   ]
  },
  {
   "cell_type": "code",
   "execution_count": 148,
   "metadata": {},
   "outputs": [],
   "source": [
    "F, T_s=NeighborJoin(Test_2)"
   ]
  },
  {
   "cell_type": "code",
   "execution_count": 149,
   "metadata": {},
   "outputs": [
    {
     "data": {
      "text/html": [
       "<div>\n",
       "<style scoped>\n",
       "    .dataframe tbody tr th:only-of-type {\n",
       "        vertical-align: middle;\n",
       "    }\n",
       "\n",
       "    .dataframe tbody tr th {\n",
       "        vertical-align: top;\n",
       "    }\n",
       "\n",
       "    .dataframe thead th {\n",
       "        text-align: right;\n",
       "    }\n",
       "</style>\n",
       "<table border=\"1\" class=\"dataframe\">\n",
       "  <thead>\n",
       "    <tr style=\"text-align: right;\">\n",
       "      <th></th>\n",
       "      <th>CF</th>\n",
       "      <th>ABDE</th>\n",
       "    </tr>\n",
       "  </thead>\n",
       "  <tbody>\n",
       "    <tr>\n",
       "      <th>CF</th>\n",
       "      <td>inf</td>\n",
       "      <td>36.250000</td>\n",
       "    </tr>\n",
       "    <tr>\n",
       "      <th>ABDE</th>\n",
       "      <td>inf</td>\n",
       "      <td>inf</td>\n",
       "    </tr>\n",
       "  </tbody>\n",
       "</table>\n",
       "</div>"
      ],
      "text/plain": [
       "       CF       ABDE\n",
       "CF    inf  36.250000\n",
       "ABDE  inf        inf"
      ]
     },
     "execution_count": 149,
     "metadata": {},
     "output_type": "execute_result"
    }
   ],
   "source": [
    "F"
   ]
  },
  {
   "cell_type": "code",
   "execution_count": 150,
   "metadata": {},
   "outputs": [
    {
     "data": {
      "text/plain": [
       "'((C: 2.5, F: 5.5): 18.125, ((A: 1.0, B: 4.0): 9.249999999999996, (D: 3.0, E: 2.0): 10.916666666666668): 18.125)'"
      ]
     },
     "execution_count": 150,
     "metadata": {},
     "output_type": "execute_result"
    }
   ],
   "source": [
    "T_s"
   ]
  }
 ],
 "metadata": {
  "kernelspec": {
   "display_name": "Python 3",
   "language": "python",
   "name": "python3"
  },
  "language_info": {
   "codemirror_mode": {
    "name": "ipython",
    "version": 3
   },
   "file_extension": ".py",
   "mimetype": "text/x-python",
   "name": "python",
   "nbconvert_exporter": "python",
   "pygments_lexer": "ipython3",
   "version": "3.6.4"
  }
 },
 "nbformat": 4,
 "nbformat_minor": 2
}
