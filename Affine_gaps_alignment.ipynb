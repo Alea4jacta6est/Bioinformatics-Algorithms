{
 "cells": [
  {
   "cell_type": "code",
   "execution_count": 1,
   "metadata": {},
   "outputs": [],
   "source": [
    "def affine_gaps_align(seq1, seq2, opening, gap=-1, match=1, missmatch=-1):\n",
    "    \n",
    "    from itertools import product\n",
    "    import numpy as np\n",
    "    \n",
    "    def cost(ch1, ch2):\n",
    "        return match if ch1==ch2 else missmatch\n",
    "    \n",
    "    n=len(seq1)\n",
    "    m=len(seq2)\n",
    "    \n",
    "    init=[n+1, m+1]\n",
    "    \n",
    "    Hor=np.zeros(init)#insertions\n",
    "    Vert=np.zeros(init)#deletions\n",
    "    Diag=np.zeros(init)\n",
    "    Path=np.empty([3]+init)\n",
    "    \n",
    "    Hor[:,0]=[np.NINF]*(n+1)\n",
    "    Hor[0,:]=[np.NINF]+[opening+i*gap for i in range(1, m+1)]\n",
    "    Vert[0,:]=[np.NINF]*(m+1)\n",
    "    Vert[:,0]=[np.NINF]+[opening+i*gap for i in range(1, n+1)]\n",
    "    Diag[:,0]=[0]+[opening+i*gap for i in range(1, n+1)]\n",
    "    Diag[0,:]=[0]+[opening+i*gap for i in range(1, m+1)]\n",
    "    \n",
    "    Path[1, :, 0]=[2]*(n+1)\n",
    "    Path[1, 0, :]=[0]*(m+1)\n",
    "    Path[0, :, 0]=[2]*(n+1)\n",
    "    Path[0, 0, :]=[0]*(m+1)\n",
    "    Path[2, :, 0]=[2]*(n+1)\n",
    "    Path[2, 0, :]=[0]*(n+1)\n",
    "    \n",
    "    for i, j in product(range(1, n+1), range(1, m+1)):\n",
    "        \n",
    "        Hor[i,j]=max(Hor[i,j-1]+gap, Diag[i, j-1]+opening+gap)\n",
    "        \n",
    "        Path[0,i,j]=np.argmax([Hor[i,j-1]+gap, Diag[i, j-1]+opening+gap])\n",
    "        \n",
    "        Vert[i,j]=max(Diag[i-1, j]+opening+gap, Vert[i-1, j]+gap)\n",
    "        \n",
    "        Path[2,i,j]=np.argmax([np.NINF, Diag[i-1, j]+opening+gap, Vert[i-1, j]+gap])\n",
    "        \n",
    "        Diag[i,j]=max(Hor[i, j], Diag[i-1,j-1]+cost(seq1[i-1], seq2[j-1]), Vert[i, j])\n",
    "        \n",
    "        Path[1,i,j]=np.argmax([Hor[i, j], Diag[i-1,j-1]+cost(seq1[i-1], seq2[j-1]), Vert[i, j]])\n",
    "        \n",
    "    Alignment=[[],[]]\n",
    "    \n",
    "    while (i,j)!=(0,0):\n",
    "        \n",
    "        if Path[1, i, j]==1:\n",
    "            \n",
    "            Alignment[0].append(seq1[i-1])\n",
    "            Alignment[1].append(seq2[j-1])\n",
    "            i-=1\n",
    "            j-=1\n",
    "        elif Path[1,i,j]==0:\n",
    "            k=1\n",
    "            while Path[0,i,j-k+1]==0:\n",
    "                if i==0 or j==0:\n",
    "                    break\n",
    "                k+=1\n",
    "            Alignment[0]+=['-']*k\n",
    "            Alignment[1]+=[seq2[l] for l in range(j-1,j-1-k,-1)]\n",
    "            j-=k\n",
    "            \n",
    "        elif Path[1, i, j]==2: \n",
    "            k=1\n",
    "            while Path[2,i-k+1,j]==0:\n",
    "                if i==0 or j==0:\n",
    "                    break\n",
    "                k+=1\n",
    "            Alignment[0]+=[seq1[l] for l in range(i-1,i-1-k,-1)]\n",
    "            Alignment[1]+=['-']*k\n",
    "            i-=k\n",
    "        else: \n",
    "            raise ValueError('Wrong Path Matrix')\n",
    "            \n",
    "    Alignment=[x[::-1] for x in Alignment]\n",
    "    Dist_mats=[Hor, Diag, Vert]\n",
    "        \n",
    "    return Dist_mats, Alignment, Path"
   ]
  },
  {
   "cell_type": "code",
   "execution_count": 23,
   "metadata": {},
   "outputs": [],
   "source": [
    "D, A, P=affine_gaps_align('TCCCAGTTATGTCAGGGGACACGAGCATGCAGAGAC', 'AATTGCCGCCGTCGTTTTCAGCAGTTATGTCAGATC', \n",
    "                          opening=0, gap=-1, match=1, missmatch=-1)"
   ]
  },
  {
   "cell_type": "code",
   "execution_count": 24,
   "metadata": {},
   "outputs": [
    {
     "name": "stdout",
     "output_type": "stream",
     "text": [
      "2.0\n",
      "--T--CC-CAGT--TATGTCAGGGGACACGAGCATG-CAGAGAC\n",
      "AATTGCCGCCGTCGT-TTTCA---G-CA-G-TTATGTCAGA-TC\n"
     ]
    }
   ],
   "source": [
    "print(D[1][D[1].shape[0]-1, D[1].shape[1]-1])\n",
    "print(''.join(A[0]))\n",
    "print(''.join(A[1]))"
   ]
  },
  {
   "cell_type": "code",
   "execution_count": 25,
   "metadata": {},
   "outputs": [],
   "source": [
    "from BioInf_Collection import Needleman_Wunsch\n",
    "D, A=Needleman_Wunsch('TCCCAGTTATGTCAGGGGACACGAGCATGCAGAGAC', 'AATTGCCGCCGTCGTTTTCAGCAGTTATGTCAGATC', \n",
    "                          indel=-1, match=1, missmatch=-1)"
   ]
  },
  {
   "cell_type": "code",
   "execution_count": 26,
   "metadata": {},
   "outputs": [
    {
     "name": "stdout",
     "output_type": "stream",
     "text": [
      "2.0\n",
      "--T--CC-CAGT--TATGTCAGGGGACACGAGCATG-CAGAGAC\n",
      "AATTGCCGCCGTCGTTT-TCAG----CA-GTT-ATGTCAGAT-C\n"
     ]
    }
   ],
   "source": [
    "print(D[D.shape[0]-1, D.shape[1]-1])\n",
    "print(''.join(A[0]))\n",
    "print(''.join(A[1]))"
   ]
  },
  {
   "cell_type": "markdown",
   "metadata": {},
   "source": [
    "Resulting alignment is not completely identical to Needlman-Wubsh's one, but it is an equivalent one. Difference arise due to the implementation details."
   ]
  },
  {
   "cell_type": "code",
   "execution_count": 28,
   "metadata": {},
   "outputs": [],
   "source": [
    "D, A, P=affine_gaps_align('TCCCAGTTATGTCAGGGGACACGAGCATGCAGAGAC', 'AATTGCCGCCGTCGTTTTCAGCAGTTATGTCAGATC', \n",
    "                          opening=-100, gap=-0.01, match=1, missmatch=-1)"
   ]
  },
  {
   "cell_type": "code",
   "execution_count": 29,
   "metadata": {},
   "outputs": [
    {
     "name": "stdout",
     "output_type": "stream",
     "text": [
      "-20.0\n",
      "TCCCAGTTATGTCAGGGGACACGAGCATGCAGAGAC\n",
      "AATTGCCGCCGTCGTTTTCAGCAGTTATGTCAGATC\n"
     ]
    }
   ],
   "source": [
    "print(D[1][D[1].shape[0]-1, D[1].shape[1]-1])\n",
    "print(''.join(A[0]))\n",
    "print(''.join(A[1]))"
   ]
  },
  {
   "cell_type": "markdown",
   "metadata": {},
   "source": [
    "Large penalty for opening the gap results in the absence of both insertions and deletions."
   ]
  },
  {
   "cell_type": "code",
   "execution_count": 30,
   "metadata": {},
   "outputs": [],
   "source": [
    "D, A, P=affine_gaps_align('TCCCAGTTATGTCAGGGGACACGAGCATGCAGAGAC', 'AATTGCCGCCGTCGTTTTCAGCAGTTATGTCAGATC', \n",
    "                          opening=0.5, gap=-0.3, match=1, missmatch=-1)"
   ]
  },
  {
   "cell_type": "code",
   "execution_count": 31,
   "metadata": {},
   "outputs": [
    {
     "name": "stdout",
     "output_type": "stream",
     "text": [
      "27.69999999999999\n",
      "--T--CC-CA-GT--TATGT-CAGGGGACACGAGC--ATG-CAGAGA-C\n",
      "AATTGCCGC-CGTCGT-T-TTCA---G---C-AG-TTATGTC--AGATC\n"
     ]
    }
   ],
   "source": [
    "print(D[1][D[1].shape[0]-1, D[1].shape[1]-1])\n",
    "print(''.join(A[0]))\n",
    "print(''.join(A[1]))"
   ]
  },
  {
   "cell_type": "markdown",
   "metadata": {},
   "source": [
    "No missmatches in the above alignment, because subsequent gaps of length less than three have positive weight."
   ]
  }
 ],
 "metadata": {
  "kernelspec": {
   "display_name": "Python 3",
   "language": "python",
   "name": "python3"
  },
  "language_info": {
   "codemirror_mode": {
    "name": "ipython",
    "version": 3
   },
   "file_extension": ".py",
   "mimetype": "text/x-python",
   "name": "python",
   "nbconvert_exporter": "python",
   "pygments_lexer": "ipython3",
   "version": "3.6.4"
  }
 },
 "nbformat": 4,
 "nbformat_minor": 2
}
